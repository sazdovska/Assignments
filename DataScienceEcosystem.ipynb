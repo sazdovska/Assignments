{
 "cells": [
  {
   "cell_type": "markdown",
   "id": "365bf794-7db1-4304-bad1-873f65ef8edb",
   "metadata": {},
   "source": [
    "# Data Science Tools and Ecosystem"
   ]
  },
  {
   "cell_type": "markdown",
   "id": "808f9385-5a9d-451d-aee1-473a0712d0b2",
   "metadata": {},
   "source": [
    "Data Science Tools and Ecosystem"
   ]
  },
  {
   "cell_type": "markdown",
   "id": "1d1f2ebb-3171-4b5e-88e8-d09e32c134e8",
   "metadata": {},
   "source": [
    "**Objectives:**\n",
    "* List popular languages of Data Science\n",
    "* List commonly used libraries by Data Scientists\n",
    "* Name the most used environment open-source tools used in Data Science\n",
    "* Show examples of evaluating arithmetic expressions in Python "
   ]
  },
  {
   "cell_type": "markdown",
   "id": "ea3c5166-4b1b-43c9-aa85-802909346084",
   "metadata": {},
   "source": [
    "Some of the popular languages that Data Scientists use are:\n",
    "\n",
    "1. Python\n",
    "2. R\n",
    "3. SQL\n",
    "4. Scala\n",
    "5. Java\n",
    "6. C++\n",
    "7. Julia"
   ]
  },
  {
   "cell_type": "markdown",
   "id": "adfb252f-308f-4593-a6a5-ae27643ddd92",
   "metadata": {},
   "source": [
    "Some of the commonly used libraries used by Data Scientists include:\n",
    "1. Pandas\n",
    "2. NumPy\n",
    "3. SciPy\n",
    "4. Matplotlib\n",
    "5. PyTorch\n",
    "6. Scikit-learn\n",
    "7. TensorFlow\n",
    "8. Keras\n",
    "9. Seaborn\n",
    "10. ggplot2"
   ]
  },
  {
   "cell_type": "markdown",
   "id": "b4d63426-f1a1-45b5-b419-c714be8eae3e",
   "metadata": {},
   "source": [
    "|Data Science Tools|\n",
    "|------------------|\n",
    "|Jupyter Notebook|\n",
    "|Google Colab|\n",
    "|RStudio IDE|"
   ]
  },
  {
   "cell_type": "markdown",
   "id": "954bd26c-283c-43ae-9a0b-e84b79aa7926",
   "metadata": {},
   "source": [
    "### Below are a few examples of evaluating arithmetic expressions in Python"
   ]
  },
  {
   "cell_type": "code",
   "execution_count": 4,
   "id": "201084de-0f06-4de5-bda6-e62e544e826c",
   "metadata": {},
   "outputs": [
    {
     "data": {
      "text/plain": [
       "17"
      ]
     },
     "execution_count": 4,
     "metadata": {},
     "output_type": "execute_result"
    }
   ],
   "source": [
    "# This a simple arithmetic expression to multiply then add integers\n",
    "3*4+5"
   ]
  },
  {
   "cell_type": "code",
   "execution_count": 3,
   "id": "8926be7f-e436-467d-bed1-1ee3441a21f3",
   "metadata": {},
   "outputs": [
    {
     "name": "stdout",
     "output_type": "stream",
     "text": [
      "There are 3 hours and 20 minutes in 200 minutes\n"
     ]
    }
   ],
   "source": [
    "# This will convert 200 minutes to hours by diving by 60\n",
    "def min_to_sec(m):\n",
    "    h = int(m)//60\n",
    "    m = int(m)%60\n",
    "    return h,m \n",
    "mtos = min_to_sec(200)\n",
    "print(\"There are\", mtos[0], \"hours and\", mtos[1], \"minutes in 200 minutes\")  "
   ]
  },
  {
   "cell_type": "markdown",
   "id": "9f627ae3-02fc-4548-ad72-75a137982dbe",
   "metadata": {},
   "source": [
    "## Author\n",
    "Sandra Sazdovska"
   ]
  },
  {
   "cell_type": "code",
   "execution_count": null,
   "id": "b7eaae70-1e23-4ba9-94d1-ef3bdca1f2fc",
   "metadata": {},
   "outputs": [],
   "source": []
  }
 ],
 "metadata": {
  "kernelspec": {
   "display_name": "anaconda-panel-2023.05-py310",
   "language": "python",
   "name": "conda-env-anaconda-panel-2023.05-py310-py"
  },
  "language_info": {
   "codemirror_mode": {
    "name": "ipython",
    "version": 3
   },
   "file_extension": ".py",
   "mimetype": "text/x-python",
   "name": "python",
   "nbconvert_exporter": "python",
   "pygments_lexer": "ipython3",
   "version": "3.11.5"
  }
 },
 "nbformat": 4,
 "nbformat_minor": 5
}
